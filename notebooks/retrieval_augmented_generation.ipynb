{
 "cells": [
  {
   "cell_type": "code",
   "execution_count": 7,
   "metadata": {},
   "outputs": [],
   "source": [
    "import os\n",
    "from dotenv import load_dotenv\n",
    "from langchain_core.prompts import ChatPromptTemplate\n",
    "import sys \n",
    "\n",
    "sys.path.append(os.path.abspath(\"../\"))\n",
    "import src.prompt_tempales as prompts"
   ]
  },
  {
   "cell_type": "code",
   "execution_count": 8,
   "metadata": {},
   "outputs": [],
   "source": [
    "load_dotenv()\n",
    "OPENROUTER_API_KEY = os.getenv(\"OPENROUTER_API_KEY\")"
   ]
  },
  {
   "cell_type": "code",
   "execution_count": 9,
   "metadata": {},
   "outputs": [
    {
     "ename": "AttributeError",
     "evalue": "module 'src.prompt_tempales' has no attribute 'RAG_PROMPT_TEMPLATE'",
     "output_type": "error",
     "traceback": [
      "\u001b[31m---------------------------------------------------------------------------\u001b[39m",
      "\u001b[31mAttributeError\u001b[39m                            Traceback (most recent call last)",
      "\u001b[36mCell\u001b[39m\u001b[36m \u001b[39m\u001b[32mIn[9]\u001b[39m\u001b[32m, line 3\u001b[39m\n\u001b[32m      1\u001b[39m chat_history = []\n\u001b[32m----> \u001b[39m\u001b[32m3\u001b[39m rag_prompt_template = \u001b[43mprompts\u001b[49m\u001b[43m.\u001b[49m\u001b[43mRAG_PROMPT_TEMPLATE\u001b[49m\n\u001b[32m      4\u001b[39m \u001b[38;5;28mprint\u001b[39m(rag_prompt_template)\n",
      "\u001b[31mAttributeError\u001b[39m: module 'src.prompt_tempales' has no attribute 'RAG_PROMPT_TEMPLATE'"
     ]
    }
   ],
   "source": [
    "chat_history = []\n",
    "\n",
    "rag_prompt_template = prompts.RAG_PROMPT_TEMPLATE\n",
    "print(rag_prompt_template)"
   ]
  }
 ],
 "metadata": {
  "kernelspec": {
   "display_name": "venv",
   "language": "python",
   "name": "python3"
  },
  "language_info": {
   "codemirror_mode": {
    "name": "ipython",
    "version": 3
   },
   "file_extension": ".py",
   "mimetype": "text/x-python",
   "name": "python",
   "nbconvert_exporter": "python",
   "pygments_lexer": "ipython3",
   "version": "3.12.0"
  }
 },
 "nbformat": 4,
 "nbformat_minor": 2
}
