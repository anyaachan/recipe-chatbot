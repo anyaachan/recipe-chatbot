{
 "cells": [
  {
   "cell_type": "code",
   "execution_count": 203,
   "metadata": {},
   "outputs": [],
   "source": [
    "import pandas as pd\n",
    "from bs4 import BeautifulSoup\n",
    "import re"
   ]
  },
  {
   "cell_type": "code",
   "execution_count": 204,
   "metadata": {},
   "outputs": [],
   "source": [
    "\n",
    "def clean_html_tags(data: str) -> str:\n",
    "    \"\"\"Remove HTML tags from textual data\"\"\"\n",
    "    if not isinstance(data, str):\n",
    "        return data  \n",
    "        \n",
    "    if not data:\n",
    "        return\n",
    "    \n",
    "    soup = BeautifulSoup(data, \"html.parser\")\n",
    "    return soup.get_text()\n",
    "\n",
    "def remove_hashtags(text: str) -> str:\n",
    "    \"\"\"Remove hashtags from textual data\"\"\"\n",
    "    if not isinstance(text, str):\n",
    "        return text\n",
    "        \n",
    "    if not text:\n",
    "        return\n",
    "    \n",
    "    return re.sub(r\"#\\w+\", \"\", text)\n",
    "\n",
    "def count_separator_rows(patterns: list, column: pd.Series) -> int:\n",
    "    \"\"\"\n",
    "    Count rows in column with with specified separators. \n",
    "    Prints the total number of rows in the column, the number of rows with each separator and the total number of rows with any of the separators.\n",
    "    \"\"\"\n",
    "    \n",
    "    column_len = len(column)\n",
    "    print(f\"Number of rows in column: {column_len}\")\n",
    "\n",
    "    rows_with_pattern_separators = {}\n",
    "    for pattern in patterns:\n",
    "        rows_with_pattern_separator = column.str.contains(pattern, regex=True, na=False)\n",
    "        rows_with_pattern_separators[pattern] = rows_with_pattern_separator\n",
    "        print(f\"Number of rows with {repr(pattern)} separator: {rows_with_pattern_separator.sum()}\")\n",
    "        \n",
    "    # series of false with len of step_column. we use OR on it and count the number of rows with any of the separators listed\n",
    "    rows_with_either = pd.Series([False] * column_len)\n",
    "\n",
    "    for pattern, pattern_matches in rows_with_pattern_separators.items():\n",
    "        rows_with_either = rows_with_either | pattern_matches\n",
    "        \n",
    "    count_either = rows_with_either.sum()\n",
    "    print(f\"Number of rows with either ',.' or newlines: {count_either}\")\n",
    "    \n",
    "    return count_either\n",
    "\n",
    "def split_steps(steps: str, separators: list, ends_with_dot: bool = True) -> list:\n",
    "    \"\"\"Split textual data into a list based on provided separators.\"\"\"\n",
    "    if not isinstance(steps, str):\n",
    "        return steps\n",
    "    \n",
    "    pattern = \"|\".join(separators)\n",
    "    steps_list = re.split(pattern, steps)\n",
    "    \n",
    "    # ensure consistency, all steps end with a dot\n",
    "    steps_list = [step.strip() for step in steps_list if step.strip()]\n",
    "    \n",
    "    if ends_with_dot:\n",
    "        for i in range(len(steps_list)):\n",
    "            if not steps_list[i].endswith('.'):\n",
    "                steps_list[i] += '.'\n",
    "    \n",
    "    return steps_list\n",
    "    "
   ]
  },
  {
   "cell_type": "markdown",
   "metadata": {},
   "source": [
    "### Dataset Loading and Initial Processing"
   ]
  },
  {
   "cell_type": "code",
   "execution_count": 205,
   "metadata": {},
   "outputs": [
    {
     "data": {
      "text/html": [
       "<div>\n",
       "<style scoped>\n",
       "    .dataframe tbody tr th:only-of-type {\n",
       "        vertical-align: middle;\n",
       "    }\n",
       "\n",
       "    .dataframe tbody tr th {\n",
       "        vertical-align: top;\n",
       "    }\n",
       "\n",
       "    .dataframe thead th {\n",
       "        text-align: right;\n",
       "    }\n",
       "</style>\n",
       "<table border=\"1\" class=\"dataframe\">\n",
       "  <thead>\n",
       "    <tr style=\"text-align: right;\">\n",
       "      <th></th>\n",
       "      <th>id</th>\n",
       "      <th>name</th>\n",
       "      <th>name.1</th>\n",
       "      <th>author_note</th>\n",
       "      <th>ingredients</th>\n",
       "      <th>steps</th>\n",
       "    </tr>\n",
       "  </thead>\n",
       "  <tbody>\n",
       "    <tr>\n",
       "      <th>67</th>\n",
       "      <td>79</td>\n",
       "      <td>Hovězí vývar</td>\n",
       "      <td>Roman Vaněk</td>\n",
       "      <td>S Rohlíkem jsme dali dohromady výběr nejoblíbe...</td>\n",
       "      <td>Bobkový list, Černý pepř celý, Česnek, Cibule,...</td>\n",
       "      <td>Jakmile se pěna přestane tvořit, přidáme zarov...</td>\n",
       "    </tr>\n",
       "    <tr>\n",
       "      <th>32</th>\n",
       "      <td>43</td>\n",
       "      <td>Makarony se sýrem</td>\n",
       "      <td>Roman Vaněk</td>\n",
       "      <td>S Rohlíkem jsme dali dohromady výběr nejoblíbe...</td>\n",
       "      <td>Česnek, Cheddar bloček, Cheddar Extra Mature, ...</td>\n",
       "      <td>Dvě třetiny bešamelu smícháme v míse s uvařený...</td>\n",
       "    </tr>\n",
       "    <tr>\n",
       "      <th>71</th>\n",
       "      <td>85</td>\n",
       "      <td>Bramborové noky</td>\n",
       "      <td>Roman Vaněk</td>\n",
       "      <td>S Rohlíkem jsme dali dohromady výběr nejoblíbe...</td>\n",
       "      <td>Bramborový škrob, Brambory varný typ C, Hrubá ...</td>\n",
       "      <td>Do většího hrnce dáme vařit dobře osolenou vod...</td>\n",
       "    </tr>\n",
       "    <tr>\n",
       "      <th>3</th>\n",
       "      <td>14</td>\n",
       "      <td>Kuřecí polévka s kokosovým mlékem</td>\n",
       "      <td>Roman Vaněk</td>\n",
       "      <td>S Rohlíkem jsme dali dohromady výběr nejoblíbe...</td>\n",
       "      <td>Čerstvý koriandr, Červená Chilli paprička, Čes...</td>\n",
       "      <td>Maso vyndáme z hrnce a nakrájíme na plátky sil...</td>\n",
       "    </tr>\n",
       "    <tr>\n",
       "      <th>28</th>\n",
       "      <td>39</td>\n",
       "      <td>Kuře s rajčaty a olivami</td>\n",
       "      <td>Roman Vaněk</td>\n",
       "      <td>S Rohlíkem jsme dali dohromady výběr nejoblíbe...</td>\n",
       "      <td>Celé kuře, Černé olivy bez pecky, Čerstvě drce...</td>\n",
       "      <td>Do kastrolu vyskládáme zpět opečené maso kůží ...</td>\n",
       "    </tr>\n",
       "  </tbody>\n",
       "</table>\n",
       "</div>"
      ],
      "text/plain": [
       "    id                               name       name.1  \\\n",
       "67  79                       Hovězí vývar  Roman Vaněk   \n",
       "32  43                  Makarony se sýrem  Roman Vaněk   \n",
       "71  85                   Bramborové noky  Roman Vaněk   \n",
       "3   14  Kuřecí polévka s kokosovým mlékem  Roman Vaněk   \n",
       "28  39           Kuře s rajčaty a olivami  Roman Vaněk   \n",
       "\n",
       "                                          author_note  \\\n",
       "67  S Rohlíkem jsme dali dohromady výběr nejoblíbe...   \n",
       "32  S Rohlíkem jsme dali dohromady výběr nejoblíbe...   \n",
       "71  S Rohlíkem jsme dali dohromady výběr nejoblíbe...   \n",
       "3   S Rohlíkem jsme dali dohromady výběr nejoblíbe...   \n",
       "28  S Rohlíkem jsme dali dohromady výběr nejoblíbe...   \n",
       "\n",
       "                                          ingredients  \\\n",
       "67  Bobkový list, Černý pepř celý, Česnek, Cibule,...   \n",
       "32  Česnek, Cheddar bloček, Cheddar Extra Mature, ...   \n",
       "71  Bramborový škrob, Brambory varný typ C, Hrubá ...   \n",
       "3   Čerstvý koriandr, Červená Chilli paprička, Čes...   \n",
       "28  Celé kuře, Černé olivy bez pecky, Čerstvě drce...   \n",
       "\n",
       "                                                steps  \n",
       "67  Jakmile se pěna přestane tvořit, přidáme zarov...  \n",
       "32  Dvě třetiny bešamelu smícháme v míse s uvařený...  \n",
       "71  Do většího hrnce dáme vařit dobře osolenou vod...  \n",
       "3   Maso vyndáme z hrnce a nakrájíme na plátky sil...  \n",
       "28  Do kastrolu vyskládáme zpět opečené maso kůží ...  "
      ]
     },
     "execution_count": 205,
     "metadata": {},
     "output_type": "execute_result"
    }
   ],
   "source": [
    "df = pd.read_csv(\"../data/Recipes.csv\")\n",
    "df.sample(5)"
   ]
  },
  {
   "cell_type": "code",
   "execution_count": 206,
   "metadata": {},
   "outputs": [],
   "source": [
    "df = df.rename(columns={\"name.1\": \"author_name\"}) # rename column as there were duplicate names"
   ]
  },
  {
   "cell_type": "markdown",
   "metadata": {},
   "source": [
    "### Data Cleaning"
   ]
  },
  {
   "cell_type": "markdown",
   "metadata": {},
   "source": [
    "During manual inspection, I found that \"author_note\" column had hashtags and html tags in it. Let's ensure that all columns won't have them."
   ]
  },
  {
   "cell_type": "code",
   "execution_count": 207,
   "metadata": {},
   "outputs": [
    {
     "data": {
      "text/html": [
       "<div>\n",
       "<style scoped>\n",
       "    .dataframe tbody tr th:only-of-type {\n",
       "        vertical-align: middle;\n",
       "    }\n",
       "\n",
       "    .dataframe tbody tr th {\n",
       "        vertical-align: top;\n",
       "    }\n",
       "\n",
       "    .dataframe thead th {\n",
       "        text-align: right;\n",
       "    }\n",
       "</style>\n",
       "<table border=\"1\" class=\"dataframe\">\n",
       "  <thead>\n",
       "    <tr style=\"text-align: right;\">\n",
       "      <th></th>\n",
       "      <th>id</th>\n",
       "      <th>name</th>\n",
       "      <th>author_name</th>\n",
       "      <th>author_note</th>\n",
       "      <th>ingredients</th>\n",
       "      <th>steps</th>\n",
       "    </tr>\n",
       "  </thead>\n",
       "  <tbody>\n",
       "    <tr>\n",
       "      <th>61</th>\n",
       "      <td>73</td>\n",
       "      <td>Těstoviny s pestem</td>\n",
       "      <td>Roman Vaněk</td>\n",
       "      <td>S Rohlíkem jsme dali dohromady výběr nejoblíbe...</td>\n",
       "      <td>Čerstvá bazalka, Čerstvě drcený pepř, Česnek, ...</td>\n",
       "      <td>Bazalku pokrájíme., Do hrnce dáme vařit 3 l vo...</td>\n",
       "    </tr>\n",
       "    <tr>\n",
       "      <th>31</th>\n",
       "      <td>42</td>\n",
       "      <td>Květáková polévka</td>\n",
       "      <td>Roman Vaněk</td>\n",
       "      <td>S Rohlíkem jsme dali dohromady výběr nejoblíbe...</td>\n",
       "      <td>Bílý pepř, Cibule, Hladká mouka, Květák, Máslo...</td>\n",
       "      <td>1,1 l vody přivedeme v hrnci k varu a osolíme ...</td>\n",
       "    </tr>\n",
       "    <tr>\n",
       "      <th>65</th>\n",
       "      <td>77</td>\n",
       "      <td>Asijský burger</td>\n",
       "      <td>Roman Vaněk</td>\n",
       "      <td>S Rohlíkem jsme dali dohromady výběr nejoblíbe...</td>\n",
       "      <td>Arašídové máslo, Bageta, Čerstvě drcený pepř, ...</td>\n",
       "      <td>Bagety podélně rozřízneme a na řezné ploše je ...</td>\n",
       "    </tr>\n",
       "    <tr>\n",
       "      <th>4</th>\n",
       "      <td>15</td>\n",
       "      <td>Kuřecí vývar</td>\n",
       "      <td>Roman Vaněk</td>\n",
       "      <td>S Rohlíkem jsme dali dohromady výběr nejoblíbe...</td>\n",
       "      <td>Bobkový list, Černý pepř celý, Čerstvý tymián,...</td>\n",
       "      <td>Hotový vývar přecedíme přes jemné síto a přípa...</td>\n",
       "    </tr>\n",
       "    <tr>\n",
       "      <th>77</th>\n",
       "      <td>91</td>\n",
       "      <td>Velikonoční beránek</td>\n",
       "      <td>Roman Vaněk</td>\n",
       "      <td>S Rohlíkem jsme dali dohromady výběr nejoblíbe...</td>\n",
       "      <td>Cukr krupice, Hrubá mouka, Káva vhodná k tomut...</td>\n",
       "      <td>Hotového beránka necháme zchladnout ve formě a...</td>\n",
       "    </tr>\n",
       "  </tbody>\n",
       "</table>\n",
       "</div>"
      ],
      "text/plain": [
       "    id                 name  author_name  \\\n",
       "61  73   Těstoviny s pestem  Roman Vaněk   \n",
       "31  42    Květáková polévka  Roman Vaněk   \n",
       "65  77       Asijský burger  Roman Vaněk   \n",
       "4   15         Kuřecí vývar  Roman Vaněk   \n",
       "77  91  Velikonoční beránek  Roman Vaněk   \n",
       "\n",
       "                                          author_note  \\\n",
       "61  S Rohlíkem jsme dali dohromady výběr nejoblíbe...   \n",
       "31  S Rohlíkem jsme dali dohromady výběr nejoblíbe...   \n",
       "65  S Rohlíkem jsme dali dohromady výběr nejoblíbe...   \n",
       "4   S Rohlíkem jsme dali dohromady výběr nejoblíbe...   \n",
       "77  S Rohlíkem jsme dali dohromady výběr nejoblíbe...   \n",
       "\n",
       "                                          ingredients  \\\n",
       "61  Čerstvá bazalka, Čerstvě drcený pepř, Česnek, ...   \n",
       "31  Bílý pepř, Cibule, Hladká mouka, Květák, Máslo...   \n",
       "65  Arašídové máslo, Bageta, Čerstvě drcený pepř, ...   \n",
       "4   Bobkový list, Černý pepř celý, Čerstvý tymián,...   \n",
       "77  Cukr krupice, Hrubá mouka, Káva vhodná k tomut...   \n",
       "\n",
       "                                                steps  \n",
       "61  Bazalku pokrájíme., Do hrnce dáme vařit 3 l vo...  \n",
       "31  1,1 l vody přivedeme v hrnci k varu a osolíme ...  \n",
       "65  Bagety podélně rozřízneme a na řezné ploše je ...  \n",
       "4   Hotový vývar přecedíme přes jemné síto a přípa...  \n",
       "77  Hotového beránka necháme zchladnout ve formě a...  "
      ]
     },
     "execution_count": 207,
     "metadata": {},
     "output_type": "execute_result"
    }
   ],
   "source": [
    "for column in df.columns:        \n",
    "    df[column] = df[column].apply(clean_html_tags)\n",
    "    df[column] = df[column].apply(remove_hashtags)\n",
    "    \n",
    "df.sample(5)"
   ]
  },
  {
   "cell_type": "markdown",
   "metadata": {},
   "source": [
    "During the manual inspection of the dataset, it was found that the steps of cooking are separated either with \",.\" or new lines. \n",
    "New lines usually are respresented with:\n",
    "\n",
    "- \\n\\n and \\n\n",
    "-  or \\r\\n \n",
    "\n",
    "Based on compilation environment. While single new lines appear to function as \"sub steps\" separators in some cases, it is still better to divide on them, to make steps more granular. \n",
    "\n",
    "Let us find out whether it is applicable to every single recipe, so we won't miss recipes with other types of separators: "
   ]
  },
  {
   "cell_type": "code",
   "execution_count": 208,
   "metadata": {},
   "outputs": [
    {
     "name": "stdout",
     "output_type": "stream",
     "text": [
      "Number of rows in column: 100\n",
      "Number of rows with '.,' separator: 100\n",
      "Number of rows with '\\n\\n' separator: 54\n",
      "Number of rows with '\\n' separator: 59\n",
      "Number of rows with either ',.' or newlines: 100\n",
      "100\n"
     ]
    }
   ],
   "source": [
    "df[\"steps\"] = df[\"steps\"].str.replace('\\r\\n', '\\n') # replace windows newline with unix newline\n",
    "df[\"steps\"] = df[\"steps\"].str.replace(r'\\n\\s*\\n+', '\\n\\n', regex=True)\n",
    "print(str(count_separator_rows([\".,\", \"\\n\\n\", \"\\n\"], df[\"steps\"])))"
   ]
  },
  {
   "cell_type": "markdown",
   "metadata": {},
   "source": [
    "Let's separate steps into list: "
   ]
  },
  {
   "cell_type": "code",
   "execution_count": 209,
   "metadata": {},
   "outputs": [
    {
     "data": {
      "text/html": [
       "<div>\n",
       "<style scoped>\n",
       "    .dataframe tbody tr th:only-of-type {\n",
       "        vertical-align: middle;\n",
       "    }\n",
       "\n",
       "    .dataframe tbody tr th {\n",
       "        vertical-align: top;\n",
       "    }\n",
       "\n",
       "    .dataframe thead th {\n",
       "        text-align: right;\n",
       "    }\n",
       "</style>\n",
       "<table border=\"1\" class=\"dataframe\">\n",
       "  <thead>\n",
       "    <tr style=\"text-align: right;\">\n",
       "      <th></th>\n",
       "      <th>id</th>\n",
       "      <th>name</th>\n",
       "      <th>author_name</th>\n",
       "      <th>author_note</th>\n",
       "      <th>ingredients</th>\n",
       "      <th>steps</th>\n",
       "    </tr>\n",
       "  </thead>\n",
       "  <tbody>\n",
       "    <tr>\n",
       "      <th>0</th>\n",
       "      <td>10</td>\n",
       "      <td>Hovězí guláš s karlovarským knedlíkem</td>\n",
       "      <td>Roman Vaněk</td>\n",
       "      <td>S Rohlíkem jsme dali dohromady výběr nejoblíbe...</td>\n",
       "      <td>Bobkový list, Drcený kmín, Hovězí plec vcelku,...</td>\n",
       "      <td>[Cibuli nakrájíme nahrubo. Maso nakrájíme na k...</td>\n",
       "    </tr>\n",
       "    <tr>\n",
       "      <th>1</th>\n",
       "      <td>11</td>\n",
       "      <td>Bábovka s ořechy</td>\n",
       "      <td>Roman Vaněk</td>\n",
       "      <td>S Rohlíkem jsme dali dohromady výběr nejoblíbe...</td>\n",
       "      <td>Cukr krupice, Hrubá mouka, Kakao, Káva vhodná ...</td>\n",
       "      <td>[Sníh z bílků musí být tak tuhý, že při obráce...</td>\n",
       "    </tr>\n",
       "    <tr>\n",
       "      <th>2</th>\n",
       "      <td>12</td>\n",
       "      <td>Hrášková krémová polévka</td>\n",
       "      <td>Roman Vaněk</td>\n",
       "      <td>S Rohlíkem jsme dali dohromady výběr nejoblíbe...</td>\n",
       "      <td>Cibule, Cukr krupice, Kuřecí vývar, Máslo, Mát...</td>\n",
       "      <td>[Pokud chcete, aby polévka získala svěží zelen...</td>\n",
       "    </tr>\n",
       "    <tr>\n",
       "      <th>3</th>\n",
       "      <td>14</td>\n",
       "      <td>Kuřecí polévka s kokosovým mlékem</td>\n",
       "      <td>Roman Vaněk</td>\n",
       "      <td>S Rohlíkem jsme dali dohromady výběr nejoblíbe...</td>\n",
       "      <td>Čerstvý koriandr, Červená Chilli paprička, Čes...</td>\n",
       "      <td>[Maso vyndáme z hrnce a nakrájíme na plátky si...</td>\n",
       "    </tr>\n",
       "    <tr>\n",
       "      <th>4</th>\n",
       "      <td>15</td>\n",
       "      <td>Kuřecí vývar</td>\n",
       "      <td>Roman Vaněk</td>\n",
       "      <td>S Rohlíkem jsme dali dohromady výběr nejoblíbe...</td>\n",
       "      <td>Bobkový list, Černý pepř celý, Čerstvý tymián,...</td>\n",
       "      <td>[Hotový vývar přecedíme přes jemné síto a příp...</td>\n",
       "    </tr>\n",
       "  </tbody>\n",
       "</table>\n",
       "</div>"
      ],
      "text/plain": [
       "   id                                   name  author_name  \\\n",
       "0  10  Hovězí guláš s karlovarským knedlíkem  Roman Vaněk   \n",
       "1  11                       Bábovka s ořechy  Roman Vaněk   \n",
       "2  12               Hrášková krémová polévka  Roman Vaněk   \n",
       "3  14      Kuřecí polévka s kokosovým mlékem  Roman Vaněk   \n",
       "4  15                           Kuřecí vývar  Roman Vaněk   \n",
       "\n",
       "                                         author_note  \\\n",
       "0  S Rohlíkem jsme dali dohromady výběr nejoblíbe...   \n",
       "1  S Rohlíkem jsme dali dohromady výběr nejoblíbe...   \n",
       "2  S Rohlíkem jsme dali dohromady výběr nejoblíbe...   \n",
       "3  S Rohlíkem jsme dali dohromady výběr nejoblíbe...   \n",
       "4  S Rohlíkem jsme dali dohromady výběr nejoblíbe...   \n",
       "\n",
       "                                         ingredients  \\\n",
       "0  Bobkový list, Drcený kmín, Hovězí plec vcelku,...   \n",
       "1  Cukr krupice, Hrubá mouka, Kakao, Káva vhodná ...   \n",
       "2  Cibule, Cukr krupice, Kuřecí vývar, Máslo, Mát...   \n",
       "3  Čerstvý koriandr, Červená Chilli paprička, Čes...   \n",
       "4  Bobkový list, Černý pepř celý, Čerstvý tymián,...   \n",
       "\n",
       "                                               steps  \n",
       "0  [Cibuli nakrájíme nahrubo. Maso nakrájíme na k...  \n",
       "1  [Sníh z bílků musí být tak tuhý, že při obráce...  \n",
       "2  [Pokud chcete, aby polévka získala svěží zelen...  \n",
       "3  [Maso vyndáme z hrnce a nakrájíme na plátky si...  \n",
       "4  [Hotový vývar přecedíme přes jemné síto a příp...  "
      ]
     },
     "execution_count": 209,
     "metadata": {},
     "output_type": "execute_result"
    }
   ],
   "source": [
    "df[\"steps\"] = df[\"steps\"].apply(split_steps, args=([r\"\\.,\", r\"\\n\\n\", r\"\\n\"],))\n",
    "df.head()"
   ]
  },
  {
   "cell_type": "markdown",
   "metadata": {},
   "source": [
    "### Handling Different Dataset Types"
   ]
  },
  {
   "cell_type": "markdown",
   "metadata": {},
   "source": [
    "In the provided dataset, the \"author_note\" column contains promotional, repetitive content. While future iterations of the dataset might include recipe-related information, this is not the case for now. Therefore, dropping this column is justified. \n",
    "\n",
    "This action improves the efficiency of future usage of the dataset for RAG, by reducing context size for LLM and reducing \"noise\" in embedding vectors for Vector Search."
   ]
  },
  {
   "cell_type": "code",
   "execution_count": 210,
   "metadata": {},
   "outputs": [],
   "source": [
    "df.drop(columns=[\"author_note\"], inplace=True)"
   ]
  },
  {
   "cell_type": "markdown",
   "metadata": {},
   "source": [
    "However, there arises the problem. The plan is to create retrieval mechanism that will allow the chatbot not only to \"retell\" the recipe, but also retrieve the full recipe from the database and show it to the user in a formatted way, to be as precise as possible and minimise hallucinations. In this case, promotional messages would be benefitial. The solution for this "
   ]
  },
  {
   "cell_type": "markdown",
   "metadata": {},
   "source": [
    "As we currently have no metadata for the dataset, there is no way to determine the purpose of the \"id\" field. "
   ]
  },
  {
   "cell_type": "markdown",
   "metadata": {},
   "source": [
    "### Save Datasets"
   ]
  },
  {
   "cell_type": "code",
   "execution_count": null,
   "metadata": {},
   "outputs": [],
   "source": [
    "df_for_rag.to_csv(\"../data/processed/Recipes_processed_rag.csv\", index=False)\n",
    "df_for_retrieval.to_csv(\"../data/processed/Recipes_processed_retrieval.csv\", index=False)"
   ]
  }
 ],
 "metadata": {
  "kernelspec": {
   "display_name": "venv",
   "language": "python",
   "name": "python3"
  },
  "language_info": {
   "codemirror_mode": {
    "name": "ipython",
    "version": 3
   },
   "file_extension": ".py",
   "mimetype": "text/x-python",
   "name": "python",
   "nbconvert_exporter": "python",
   "pygments_lexer": "ipython3",
   "version": "3.12.0"
  }
 },
 "nbformat": 4,
 "nbformat_minor": 2
}
