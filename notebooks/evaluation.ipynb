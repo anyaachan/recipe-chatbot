{
 "cells": [
  {
   "cell_type": "code",
   "execution_count": 1,
   "metadata": {},
   "outputs": [
    {
     "name": "stderr",
     "output_type": "stream",
     "text": [
      "/Users/anna-alexandradanchenko/local/recipe-chatbot/venv/lib/python3.12/site-packages/tqdm/auto.py:21: TqdmWarning: IProgress not found. Please update jupyter and ipywidgets. See https://ipywidgets.readthedocs.io/en/stable/user_install.html\n",
      "  from .autonotebook import tqdm as notebook_tqdm\n"
     ]
    }
   ],
   "source": [
    "import os\n",
    "import sys\n",
    "from tqdm.auto import tqdm\n",
    "import pandas as pd\n",
    "import random\n",
    "from sklearn.metrics.pairwise import cosine_similarity\n",
    "import numpy as np\n",
    "\n",
    "sys.path.append(os.path.abspath(\"../\"))\n",
    "import src.data.indexing as data_indexing\n",
    "from src.utils.generation import call_llm_openrouter\n",
    "from src.utils.embeddings import get_all_chroma_embeddings, get_embedding_model\n",
    "from src.utils.text_processing import format_dictionary_pairs\n",
    "from src.config import PROCESSED_DATA_DIR, DEFAULT_QA_MODEL\n",
    "from src.templates.prompt_templates import QA_GENERATION_TEMPLATE"
   ]
  },
  {
   "cell_type": "markdown",
   "metadata": {},
   "source": [
    "For the evaluation task, mainly deepeval library will be used. "
   ]
  },
  {
   "cell_type": "code",
   "execution_count": 11,
   "metadata": {},
   "outputs": [],
   "source": [
    "N_GENERATIONS=2\n",
    "SIMILARITY_THRESHOLD = 0.93"
   ]
  },
  {
   "cell_type": "code",
   "execution_count": 6,
   "metadata": {},
   "outputs": [
    {
     "name": "stdout",
     "output_type": "stream",
     "text": [
      "Loading embedding model: intfloat/multilingual-e5-large-instruct\n",
      "Embedding model ready to use.\n"
     ]
    }
   ],
   "source": [
    "outputs = []\n",
    "used_questions = {}\n",
    "embedding_model = get_embedding_model()"
   ]
  },
  {
   "cell_type": "markdown",
   "metadata": {},
   "source": [
    "I believe that the best possible case would be manual creation of the answer-question pairs. However, due to the time constraints it is not possible, therefore we will use an LLM, as described in https://huggingface.co/learn/cookbook/en/rag_evaluation\n",
    "\n",
    "I am aware of deepevals synthesiser, however, I used custom solution for better flexibility and research on how the QA generation works. "
   ]
  },
  {
   "cell_type": "code",
   "execution_count": 12,
   "metadata": {},
   "outputs": [
    {
     "name": "stdout",
     "output_type": "stream",
     "text": [
      "Doc groups: [[0, np.int64(6), np.int64(20)], [1], [2, np.int64(30), np.int64(79)], [3, np.int64(26)], [4, np.int64(28)], [5], [7], [8, np.int64(35)], [9], [10, np.int64(41), np.int64(55)], [11, np.int64(16)], [12], [13, np.int64(22), np.int64(71)], [14, np.int64(76)], [15], [17, np.int64(37)], [18], [19], [21], [23], [24], [25, np.int64(68)], [27], [29], [31], [32], [33], [34], [36], [38], [39], [40], [42], [43, np.int64(52), np.int64(56)], [44], [45], [46, np.int64(62)], [47, np.int64(54)], [48, np.int64(61)], [49], [50], [51], [53], [57], [58], [59], [60], [63], [64], [65, np.int64(85)], [66], [67], [69, np.int64(80)], [70], [72], [73], [74], [75], [77], [78], [81], [82], [83, np.int64(89)], [84], [86], [87, np.int64(88)], [90], [91], [92], [93], [94], [95], [96, np.int64(99)], [97], [98]]\n"
     ]
    }
   ],
   "source": [
    "chroma_data = get_all_chroma_embeddings(embedding_model)\n",
    "doc_embeddings = chroma_data['embeddings']\n",
    "docs = chroma_data['documents']\n",
    "doc_ids = chroma_data['ids']\n",
    "doc_metadatas = chroma_data['metadatas']\n",
    "\n",
    "# print(f\"Docs metadata: {doc_metadatas}\")\n",
    "# print(f\"Docs: {docs}\")\n",
    "\n",
    "similarity_matrix = cosine_similarity(doc_embeddings)\n",
    "\n",
    "doc_groups = []\n",
    "used_docs = set()\n",
    "\n",
    "for i in range(len(docs)):\n",
    "    if i in used_docs:\n",
    "        continue\n",
    "        \n",
    "    current_group = [i]\n",
    "    used_docs.add(i)\n",
    "    \n",
    "    similar_indices = np.where(similarity_matrix[i] > SIMILARITY_THRESHOLD)[0]\n",
    "    for idx in similar_indices:\n",
    "        if idx != i and idx not in used_docs:\n",
    "            current_group.append(idx)\n",
    "            used_docs.add(idx)\n",
    "    \n",
    "    doc_groups.append(current_group)\n",
    "\n",
    "print(f\"Doc groups: {doc_groups}\")"
   ]
  },
  {
   "cell_type": "code",
   "execution_count": null,
   "metadata": {},
   "outputs": [
    {
     "name": "stderr",
     "output_type": "stream",
     "text": [
      "  0%|          | 0/2 [00:00<?, ?it/s]"
     ]
    },
    {
     "name": "stdout",
     "output_type": "stream",
     "text": [
      "['question', 'answer']\n",
      "{'model': 'google/gemini-2.0-flash-001', 'messages': [{'role': 'user', 'content': 'Your task is to generate a question and its corresponding answer based on the provided recipe context. \\n\\n# Instructions:\\n- Use czech language for both questions and answers.\\n\\n## Question Guidelines\\n- Create questions that reflect realistic user scenarios:\\n  - COOKING PHASE: Questions about techniques, ingredients, or clarification of steps. Be creative about what kind of questions a user might ask while cooking.\\n  - SELECTION PHASE: Questions about dietary fit, ingredient requirements, general dish selection, cuisine characteristics, what dishes can be made with certain ingredients, or recipes that fit user preferences.\\n- The question must be answerable given the information from the context. DO NOT create questions that require external knowledge.\\n- Vary in complexity (some factual, some requiring inference). \\n- Use natural, conversational language. \\n- Avoid mentioning phrases like \"according to the passage\" or \"context\" in your question.\\n\\n## Answer Guidelines\\n- Provide complete, accurate answers sourced entirely from the recipe context.\\n- Include relevant details that fully address the question\\n- Do not repeat the question in the answer.\\n\\nHere are already generated questions and answers. Generate a different type of question and answer pairs:\\n\\n\\nNow here is the context:\\nid: 102\\nrecipe_name: Grilovaná kuřecí srdíčka\\nauthor_name: Roman Vaněk\\ningredients: Česnek, Chilli koření mleté, Kuřecí srdíčka, Limeta, Olivový olej, Pepř černý , Rostlinný olej, Špejle, Sůl, Víno vhodné ke grilování\\nsteps: [\\'Do marinády k\\\\xa0srdíčkům můžete přidat lžíci nasekaného čerstvého koriandru.\\', \\'Srdíčka výborně chutnají s\\\\xa0mixem zelených salátů nebo rukolou zakápnutou olivovým olejem a\\\\xa0citronovou šťávou a\\\\xa0s\\\\xa0několika cherry rajčaty.\\', \\'Hotová srdíčka položíme na talíř, zakápneme olivovým olejem a limetovou šťávou a\\\\xa0ihned podáváme.\\', \\'Špejle namočíme na 10 minut do studené vody. Odleželá srdíčka napícháme na\\\\xa0špejle. Položíme je na rozpálený gril a grilujeme 2-2,5 minuty z\\\\xa0každé strany.\\', \\'Srdíčka očistíme. Česnek prolisujeme.\\', \\'V\\\\xa0misce smícháme 60\\\\xa0ml oleje, prolisovaný česnek, chilli, sůl a\\\\xa0pepř. Přidáme srdíčka, promícháme a\\\\xa0dáme odležet do\\\\xa0lednice na\\\\xa030\\\\xa0minut.\\']\\n'}], 'response_format': {'type': 'json_schema', 'json_schema': {'name': 'answer', 'strict': True, 'schema': {'type': 'object', 'properties': {'question': {'type': 'string', 'description': 'question'}, 'answer': {'type': 'string', 'description': 'answer'}}, 'required': ['question', 'answer'], 'additionalProperties': False}}}}\n"
     ]
    },
    {
     "name": "stderr",
     "output_type": "stream",
     "text": [
      " 50%|█████     | 1/2 [00:01<00:01,  1.46s/it]"
     ]
    },
    {
     "name": "stdout",
     "output_type": "stream",
     "text": [
      "Question: Čím ještě se dají dochutit hotová grilovaná kuřecí srdíčka?\n",
      "Answer: Kromě olivového oleje a citronové šťávy se k hotovým grilovaným srdíčkům hodí i lžíce nasekaného čerstvého koriandru.\n",
      "['question', 'answer']\n",
      "{'model': 'google/gemini-2.0-flash-001', 'messages': [{'role': 'user', 'content': 'Your task is to generate a question and its corresponding answer based on the provided recipe context. \\n\\n# Instructions:\\n- Use czech language for both questions and answers.\\n\\n## Question Guidelines\\n- Create questions that reflect realistic user scenarios:\\n  - COOKING PHASE: Questions about techniques, ingredients, or clarification of steps. Be creative about what kind of questions a user might ask while cooking.\\n  - SELECTION PHASE: Questions about dietary fit, ingredient requirements, general dish selection, cuisine characteristics, what dishes can be made with certain ingredients, or recipes that fit user preferences.\\n- The question must be answerable given the information from the context. DO NOT create questions that require external knowledge.\\n- Vary in complexity (some factual, some requiring inference). \\n- Use natural, conversational language. \\n- Avoid mentioning phrases like \"according to the passage\" or \"context\" in your question.\\n\\n## Answer Guidelines\\n- Provide complete, accurate answers sourced entirely from the recipe context.\\n- Include relevant details that fully address the question\\n- Do not repeat the question in the answer.\\n\\nHere are already generated questions and answers. Generate a different type of question and answer pairs:\\nQuestion:Čím ještě se dají dochutit hotová grilovaná kuřecí srdíčka?. Answer: Kromě olivového oleje a citronové šťávy se k hotovým grilovaným srdíčkům hodí i lžíce nasekaného čerstvého koriandru.\\n\\n\\n\\nNow here is the context:\\nid: 30\\nrecipe_name: Guacamole\\nauthor_name: Roman Vaněk\\ningredients: Avokádo, Čerstvě drcený pepř, Čerstvý koriandr, Červená Chilli paprička, Česnek, Cherry rajčata, Limeta, Nachos, Olivový olej, Sůl, Zakysaná smetana\\nsteps: [\\'Avokádo můžete namačkat vidličkou celé množství. Guacamole bude mít jemnější texturu.\\', \\'Do guacamole můžete přidat lžičku dijonské hořčice.\\', \\'Podávejte s nachos.\\', \\'Avokádo rozkrojíme napůl a vyndáme pecku. Lžící vydlabeme dužninu ze slupky a nakrájíme ji na drobné kostičky. Vložíme je do misky a polovinu promačkáme vidličkou.\\', \\'Přidáme olej, zakysanou smetanu, limetovou šťávu, česnek, chilli papričku a koriandr. Nakonec vmícháme nakrájená rajčata. Dle chuti osolíme a opepříme, promícháme a dáme na chvíli vychladit do ledničky.\\', \\'Rajčata rozkrojíme a vyřízneme tuhé středy a semínka. Dužninu nakrájíme najemno. Česnek prolisujeme nebo nakrájíme najemno. Chilli papričku rozřízneme, zbavíme zrníček a nakrájíme najemno.\\']\\n'}], 'response_format': {'type': 'json_schema', 'json_schema': {'name': 'answer', 'strict': True, 'schema': {'type': 'object', 'properties': {'question': {'type': 'string', 'description': 'question'}, 'answer': {'type': 'string', 'description': 'answer'}}, 'required': ['question', 'answer'], 'additionalProperties': False}}}}\n"
     ]
    },
    {
     "name": "stderr",
     "output_type": "stream",
     "text": [
      "100%|██████████| 2/2 [00:02<00:00,  1.30s/it]"
     ]
    },
    {
     "name": "stdout",
     "output_type": "stream",
     "text": [
      "Question: S čím se guacamole obvykle podává?\n",
      "Answer: Guacamole se podává s nachos.\n",
      "Saved 2 QA pairs to ../data/evaluation/qa_pairs.csv\n"
     ]
    },
    {
     "name": "stderr",
     "output_type": "stream",
     "text": [
      "\n"
     ]
    }
   ],
   "source": [
    "\n",
    "for doc in tqdm(random.sample(docs, N_GENERATIONS)):\n",
    "    group = random.choice(doc_groups)\n",
    "    n_docs = random.randint(1, 3)    \n",
    "    \n",
    "    formatted_qa = format_dictionary_pairs(used_questions)\n",
    "    QA_PROMTP = QA_GENERATION_TEMPLATE.format(context=doc.page_content, qa_pairs=formatted_qa)\n",
    "    output_QA_couple = call_llm_openrouter(QA_PROMTP, DEFAULT_QA_MODEL, {\"question\": \"question\", \"answer\": \"answer\"})\n",
    "    used_questions[output_QA_couple[\"question\"]] = output_QA_couple[\"answer\"]\n",
    "    outputs.append({\n",
    "        \"query\": output_QA_couple[\"question\"],\n",
    "        \"expected_output\": output_QA_couple[\"answer\"],\n",
    "        \"actual_output\": \"\",  \n",
    "        \"context\": doc.page_content,  \n",
    "        \"retrieval_context\": \"\"\n",
    "    })\n",
    "    print(f\"Question: {output_QA_couple['question']}\")\n",
    "    print(f\"Answer: {output_QA_couple['answer']}\")\n",
    "    \n",
    "qa_df = pd.DataFrame(outputs)\n",
    "csv_path = f\"../data/evaluation/qa_pairs.csv\"\n",
    "os.makedirs(os.path.dirname(csv_path), exist_ok=True)\n",
    "\n",
    "qa_df.to_csv(csv_path, index=False)\n",
    "print(f\"Saved {len(outputs)} QA pairs to {csv_path}\")"
   ]
  },
  {
   "cell_type": "code",
   "execution_count": null,
   "metadata": {},
   "outputs": [],
   "source": []
  }
 ],
 "metadata": {
  "kernelspec": {
   "display_name": "venv",
   "language": "python",
   "name": "python3"
  },
  "language_info": {
   "codemirror_mode": {
    "name": "ipython",
    "version": 3
   },
   "file_extension": ".py",
   "mimetype": "text/x-python",
   "name": "python",
   "nbconvert_exporter": "python",
   "pygments_lexer": "ipython3",
   "version": "3.12.0"
  }
 },
 "nbformat": 4,
 "nbformat_minor": 2
}
